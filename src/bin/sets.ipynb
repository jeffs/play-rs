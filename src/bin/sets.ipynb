{
 "cells": [
  {
   "cell_type": "code",
   "execution_count": 7,
   "metadata": {},
   "outputs": [],
   "source": [
    "let data = r#\"\n",
    "\n",
    "40\t3\t12\n",
    "25\t3\t12\n",
    "\t3\t15\n",
    "52.5\t3\t12\n",
    "52.5\t3\t12\n",
    "\n",
    "\"#;\n"
   ]
  },
  {
   "cell_type": "code",
   "execution_count": 8,
   "metadata": {},
   "outputs": [
    {
     "name": "stdout",
     "output_type": "stream",
     "text": [
      "    1440 =      40 * 3 * 12\n",
      "     900 =      25 * 3 * 12\n",
      "      45 =           3 * 15\n",
      "    1890 =    52.5 * 3 * 12\n",
      "    1890 =    52.5 * 3 * 12\n",
      "    ----\n",
      "    6165\n"
     ]
    }
   ],
   "source": [
    "let mut total = 0.0;\n",
    "for line in data.trim().lines() {\n",
    "    let words: Vec<&str> = line.split_ascii_whitespace().collect();\n",
    "    let numbers: Result<Vec<f64>, _> = words.iter().map(|word| word.parse()).collect();\n",
    "    let numbers = numbers?;\n",
    "    let product: f64 = numbers.iter().product();\n",
    "    let formula = words.join(\" * \");\n",
    "    println!(\"{product:8} = {formula:>16}\");\n",
    "    total += product;\n",
    "}\n",
    "println!(\"{:>8}\", \"-\".repeat(total.to_string().len()));\n",
    "println!(\"{total:8}\");\n"
   ]
  }
 ],
 "metadata": {
  "kernelspec": {
   "display_name": "Rust",
   "language": "rust",
   "name": "rust"
  },
  "language_info": {
   "codemirror_mode": "rust",
   "file_extension": ".rs",
   "mimetype": "text/rust",
   "name": "rust",
   "pygment_lexer": "rust",
   "version": ""
  }
 },
 "nbformat": 4,
 "nbformat_minor": 2
}
